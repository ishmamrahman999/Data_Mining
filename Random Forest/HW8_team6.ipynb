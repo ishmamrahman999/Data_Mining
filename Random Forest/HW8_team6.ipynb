{
 "cells": [
  {
   "cell_type": "markdown",
   "metadata": {},
   "source": [
    "<h2> Problem 1 . Contribution ishmam 33%, luis 33% , bhagwat 33%"
   ]
  },
  {
   "cell_type": "markdown",
   "metadata": {},
   "source": [
    "<h3> Loading datasets and Libraries"
   ]
  },
  {
   "cell_type": "code",
   "execution_count": 3,
   "metadata": {},
   "outputs": [],
   "source": [
    "import pandas as pd\n",
    "import numpy as np\n",
    "from sklearn.model_selection import train_test_split, cross_val_score\n",
    "from sklearn.preprocessing import LabelEncoder, StandardScaler\n",
    "from sklearn.neighbors import KNeighborsClassifier\n",
    "from sklearn.naive_bayes import GaussianNB\n",
    "from sklearn.tree import DecisionTreeClassifier\n",
    "from sklearn.ensemble import RandomForestClassifier, BaggingClassifier, AdaBoostClassifier\n",
    "from sklearn.metrics import accuracy_score\n",
    "\n",
    "\n",
    "train_data = pd.read_csv(\"Bank_traning.csv\")\n",
    "test_data = pd.read_csv(\"Bank_test.csv\")"
   ]
  },
  {
   "cell_type": "markdown",
   "metadata": {},
   "source": [
    "<h3> Encoding categorical variables"
   ]
  },
  {
   "cell_type": "code",
   "execution_count": 4,
   "metadata": {},
   "outputs": [],
   "source": [
    "\n",
    "label_encoders = {}\n",
    "\n",
    "categorical_columns = train_data.select_dtypes(include=['object']).columns\n",
    "\n",
    "for col in categorical_columns:\n",
    "    le = LabelEncoder()\n",
    "    train_data[col] = le.fit_transform(train_data[col])\n",
    "    \n",
    "    if col in test_data.columns:\n",
    "        test_data[col] = le.transform(test_data[col])\n",
    "    label_encoders[col] = le"
   ]
  },
  {
   "cell_type": "markdown",
   "metadata": {},
   "source": [
    "<h3> Preparing features and target & standardizing numerical features"
   ]
  },
  {
   "cell_type": "code",
   "execution_count": 5,
   "metadata": {},
   "outputs": [],
   "source": [
    "\n",
    "X = train_data.drop(columns=['subscribed'])\n",
    "y = train_data['subscribed']\n",
    "\n",
    "scaler = StandardScaler()\n",
    "X_scaled = scaler.fit_transform(X)\n",
    "test_scaled = scaler.transform(test_data)"
   ]
  },
  {
   "cell_type": "markdown",
   "metadata": {},
   "source": [
    "<h3>Defining models with parameters"
   ]
  },
  {
   "cell_type": "code",
   "execution_count": 6,
   "metadata": {},
   "outputs": [],
   "source": [
    "\n",
    "models = {\n",
    "    \n",
    "    \"knn\": KNeighborsClassifier(n_neighbors=5),\n",
    "    \"naive_bayes\": GaussianNB(),\n",
    "    \"decision_tree\": DecisionTreeClassifier(max_depth=5),\n",
    "    \"random_forest\": RandomForestClassifier(n_estimators=100, max_depth=5),\n",
    "    \"bagging\": BaggingClassifier(n_estimators=50),\n",
    "    \"boosting\": AdaBoostClassifier(n_estimators=50)\n",
    "}"
   ]
  },
  {
   "cell_type": "markdown",
   "metadata": {},
   "source": [
    "<h3> Training models, evaluating using cross-validation and predicting"
   ]
  },
  {
   "cell_type": "code",
   "execution_count": 7,
   "metadata": {},
   "outputs": [
    {
     "name": "stdout",
     "output_type": "stream",
     "text": [
      "knn: Average Accuracy = 0.8896\n",
      "naive_bayes: Average Accuracy = 0.8416\n",
      "decision_tree: Average Accuracy = 0.8948\n",
      "random_forest: Average Accuracy = 0.8932\n",
      "bagging: Average Accuracy = 0.8885\n",
      "boosting: Average Accuracy = 0.8333\n",
      "Processing complete. Predictions saved.\n"
     ]
    }
   ],
   "source": [
    "\n",
    "for model_name, model in models.items():\n",
    "    scores = cross_val_score(model, X_scaled, y, cv=10, scoring='accuracy')\n",
    "    print(f\"{model_name}: Average Accuracy = {np.mean(scores):.4f}\")\n",
    "    \n",
    "    model.fit(X_scaled, y)\n",
    "    predictions = model.predict(test_scaled)\n",
    "    \n",
    "    output_df = pd.DataFrame({\"ID\": range(1, len(predictions) + 1), \"subscribed\": predictions})\n",
    "    output_df.to_csv(f\"prediction_{model_name}.csv\", index=False)\n",
    "\n",
    "print(\"Processing complete. Predictions saved.\")\n"
   ]
  }
 ],
 "metadata": {
  "kernelspec": {
   "display_name": "base",
   "language": "python",
   "name": "python3"
  },
  "language_info": {
   "codemirror_mode": {
    "name": "ipython",
    "version": 3
   },
   "file_extension": ".py",
   "mimetype": "text/x-python",
   "name": "python",
   "nbconvert_exporter": "python",
   "pygments_lexer": "ipython3",
   "version": "3.11.7"
  }
 },
 "nbformat": 4,
 "nbformat_minor": 2
}
